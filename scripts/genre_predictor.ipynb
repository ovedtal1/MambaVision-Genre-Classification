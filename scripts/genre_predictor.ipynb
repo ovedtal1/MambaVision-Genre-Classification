{
 "cells": [
  {
   "cell_type": "markdown",
   "metadata": {},
   "source": [
    "# Music Predictor\n",
    "Using this file to predict the genre of a given music file"
   ]
  },
  {
   "cell_type": "code",
   "execution_count": 1,
   "metadata": {},
   "outputs": [
    {
     "name": "stderr",
     "output_type": "stream",
     "text": [
      "2024-08-09 10:02:14.828816: I tensorflow/core/platform/cpu_feature_guard.cc:193] This TensorFlow binary is optimized with oneAPI Deep Neural Network Library (oneDNN) to use the following CPU instructions in performance-critical operations:  AVX2 FMA\n",
      "To enable them in other operations, rebuild TensorFlow with the appropriate compiler flags.\n",
      "2024-08-09 10:02:15.362208: W tensorflow/compiler/xla/stream_executor/platform/default/dso_loader.cc:64] Could not load dynamic library 'libnvinfer.so.7'; dlerror: libnvinfer.so.7: cannot open shared object file: No such file or directory; LD_LIBRARY_PATH: /usr/local/cuda-11.7/lib64:/usr/local/cuda-12.2/lib64\n",
      "2024-08-09 10:02:15.362259: W tensorflow/compiler/xla/stream_executor/platform/default/dso_loader.cc:64] Could not load dynamic library 'libnvinfer_plugin.so.7'; dlerror: libnvinfer_plugin.so.7: cannot open shared object file: No such file or directory; LD_LIBRARY_PATH: /usr/local/cuda-11.7/lib64:/usr/local/cuda-12.2/lib64\n",
      "2024-08-09 10:02:15.362265: W tensorflow/compiler/tf2tensorrt/utils/py_utils.cc:38] TF-TRT Warning: Cannot dlopen some TensorRT libraries. If you would like to use Nvidia GPU with TensorRT, please make sure the missing libraries mentioned above are installed properly.\n"
     ]
    }
   ],
   "source": [
    "from music_dealer import MusicDealer\n",
    "from models import CnnModel, CrnnLongModel, CrnnModel, MambaVisionModel, DinoModel\n",
    "import json\n",
    "from Paras import Para\n",
    "import os"
   ]
  },
  {
   "cell_type": "code",
   "execution_count": 2,
   "metadata": {},
   "outputs": [
    {
     "name": "stderr",
     "output_type": "stream",
     "text": [
      "Some weights of ViTModel were not initialized from the model checkpoint at facebook/dino-vits8 and are newly initialized: ['pooler.dense.bias', 'pooler.dense.weight']\n",
      "You should probably TRAIN this model on a down-stream task to be able to use it for predictions and inference.\n"
     ]
    }
   ],
   "source": [
    "WEIGHT_PATH = \"./\"\n",
    "cnn_dealer = MusicDealer(WEIGHT_PATH + \"modelsCnnModel.pt\", CnnModel())\n",
    "MambaVision_dealer = MusicDealer(WEIGHT_PATH + \"modelsMambaVisionModel.pt\", MambaVisionModel().cpu())\n",
    "Dino_dealer = MusicDealer(WEIGHT_PATH + \"modelsDinoModel.pt\", DinoModel(), 256)"
   ]
  },
  {
   "cell_type": "markdown",
   "metadata": {},
   "source": [
    "# Sample Music  Paths"
   ]
  },
  {
   "cell_type": "code",
   "execution_count": 36,
   "metadata": {
    "scrolled": true
   },
   "outputs": [
    {
     "data": {
      "text/plain": [
       "(1,\n",
       " {'pop': 0,\n",
       "  'metal': 1,\n",
       "  'disco': 2,\n",
       "  'blues': 3,\n",
       "  'reggae': 4,\n",
       "  'classical': 5,\n",
       "  'rock': 6,\n",
       "  'hiphop': 7,\n",
       "  'country': 8,\n",
       "  'jazz': 9},\n",
       " {'reggae': ['../sample_music/reggae/Punch-Long-Version.mp3']})"
      ]
     },
     "execution_count": 36,
     "metadata": {},
     "output_type": "execute_result"
    }
   ],
   "source": [
    "data_path = '../sample_music'\n",
    "genre_path_dict = dict()\n",
    "label_dict = Para.r_dictionary\n",
    "\n",
    "for (dirpath, dirnames, filenames) in os.walk(data_path):\n",
    "    if dirnames:\n",
    "        for idx, genre in enumerate(dirnames):\n",
    "            genre_path_dict[genre] = list()\n",
    "        continue\n",
    "    else:\n",
    "        genre = dirpath.split('/')[-1]\n",
    "        for au_file in filenames:\n",
    "            if 'mp3' in au_file:\n",
    "                current_path = dirpath + '/' + au_file\n",
    "                genre_path_dict[genre].append(current_path)\n",
    "\n",
    "total_file = sum([len(genre_path_dict[genre]) for genre in genre_path_dict])\n",
    "total_file, label_dict, genre_path_dict"
   ]
  },
  {
   "cell_type": "code",
   "execution_count": 37,
   "metadata": {},
   "outputs": [],
   "source": [
    "def test_model(dealer, save_name):\n",
    "    test_result = dict()\n",
    "    for key in genre_path_dict:\n",
    "        test_result[key] = 0\n",
    "        print('test on sample {0}'.format(key))\n",
    "        for file_name in genre_path_dict.get(key):\n",
    "            res1, res2, res3, score = dealer.get_genre(file_name)\n",
    "            if res1 == label_dict.get(key):\n",
    "                test_result[key] += score.get(res1)\n",
    "            elif res2 == label_dict.get(key):\n",
    "                test_result[key] += score.get(res2)\n",
    "            elif res3 == label_dict.get(key):\n",
    "                test_result[key] += score.get(res3)\n",
    "            print(\"*\"*99)\n",
    "        test_result[key] /= 100\n",
    "        print(test_result[key])\n",
    "        print(\"+\"*99)\n",
    "    with open(Para.LOG_SAVE_FOLD + save_name, 'w+') as f:\n",
    "        json.dump(test_result, f)\n",
    "    return"
   ]
  },
  {
   "cell_type": "markdown",
   "metadata": {},
   "source": [
    "# Test on different models\n"
   ]
  },
  {
   "cell_type": "code",
   "execution_count": 38,
   "metadata": {
    "scrolled": true
   },
   "outputs": [
    {
     "name": "stdout",
     "output_type": "stream",
     "text": [
      "test on sample reggae\n",
      "Test on Punch-Long-Version.mp3\n"
     ]
    },
    {
     "name": "stdout",
     "output_type": "stream",
     "text": [
      "Genre reggae: 100.0%\n",
      "***************************************************************************************************\n",
      "1.0\n",
      "+++++++++++++++++++++++++++++++++++++++++++++++++++++++++++++++++++++++++++++++++++++++++++++++++++\n"
     ]
    }
   ],
   "source": [
    "test_model(cnn_dealer, 'cnnTest.json')"
   ]
  },
  {
   "cell_type": "code",
   "execution_count": 39,
   "metadata": {
    "scrolled": true
   },
   "outputs": [
    {
     "name": "stdout",
     "output_type": "stream",
     "text": [
      "test on sample reggae\n",
      "Test on Punch-Long-Version.mp3\n",
      "Genre reggae: 84.87%\n",
      "Genre hiphop: 15.13%\n",
      "***************************************************************************************************\n",
      "0.8487127773237586\n",
      "+++++++++++++++++++++++++++++++++++++++++++++++++++++++++++++++++++++++++++++++++++++++++++++++++++\n"
     ]
    }
   ],
   "source": [
    "test_model(MambaVision_dealer, 'MambaVisionTest.json')"
   ]
  },
  {
   "cell_type": "code",
   "execution_count": 40,
   "metadata": {
    "scrolled": true
   },
   "outputs": [
    {
     "name": "stdout",
     "output_type": "stream",
     "text": [
      "test on sample reggae\n",
      "Test on Punch-Long-Version.mp3\n",
      "Genre hiphop: 86.72%\n",
      "Genre disco: 13.28%\n",
      "***************************************************************************************************\n",
      "0.0\n",
      "+++++++++++++++++++++++++++++++++++++++++++++++++++++++++++++++++++++++++++++++++++++++++++++++++++\n"
     ]
    }
   ],
   "source": [
    "test_model(Dino_dealer, 'DinoTest.json')"
   ]
  }
 ],
 "metadata": {
  "kernelspec": {
   "display_name": "Python 3",
   "language": "python",
   "name": "python3"
  },
  "language_info": {
   "codemirror_mode": {
    "name": "ipython",
    "version": 3
   },
   "file_extension": ".py",
   "mimetype": "text/x-python",
   "name": "python",
   "nbconvert_exporter": "python",
   "pygments_lexer": "ipython3",
   "version": "3.10.6"
  }
 },
 "nbformat": 4,
 "nbformat_minor": 2
}
